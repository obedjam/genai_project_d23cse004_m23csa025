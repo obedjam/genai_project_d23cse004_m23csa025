{
 "cells": [
  {
   "cell_type": "code",
   "execution_count": 1,
   "id": "482864e3-c1aa-45fc-977d-7f83c82c6ff9",
   "metadata": {},
   "outputs": [
    {
     "name": "stderr",
     "output_type": "stream",
     "text": [
      "2024-11-26 04:27:51.869049: I tensorflow/core/platform/cpu_feature_guard.cc:182] This TensorFlow binary is optimized to use available CPU instructions in performance-critical operations.\n",
      "To enable the following instructions: AVX2 FMA, in other operations, rebuild TensorFlow with the appropriate compiler flags.\n",
      "2024-11-26 04:27:52.434124: W tensorflow/compiler/tf2tensorrt/utils/py_utils.cc:38] TF-TRT Warning: Could not find TensorRT\n"
     ]
    },
    {
     "name": "stdout",
     "output_type": "stream",
     "text": [
      "The token has not been saved to the git credentials helper. Pass `add_to_git_credential=True` in this function directly or `--add-to-git-credential` if using via `huggingface-cli` if you want to set the git credential as well.\n",
      "Token is valid (permission: fineGrained).\n",
      "Your token has been saved to /home/jamir23/.cache/huggingface/token\n",
      "Login successful\n"
     ]
    }
   ],
   "source": [
    "import numpy as np\n",
    "import models\n",
    "import detect\n",
    "import csv\n",
    "from tqdm import tqdm\n",
    "from rouge_score import rouge_scorer\n",
    "import pickle"
   ]
  },
  {
   "cell_type": "code",
   "execution_count": 2,
   "id": "1c789756-0221-4757-a5af-bcb567c80af5",
   "metadata": {},
   "outputs": [
    {
     "name": "stderr",
     "output_type": "stream",
     "text": [
      "You are using a model of type HHEMv2Config to instantiate a model of type HHEMv2. This is not supported for all configurations of models and can yield errors.\n"
     ]
    }
   ],
   "source": [
    "models.set_seed(32)\n",
    "models.initialize_models()"
   ]
  },
  {
   "cell_type": "code",
   "execution_count": 5,
   "id": "b7a6ed6d-a34a-4b14-98d2-44bbb6d29f9a",
   "metadata": {},
   "outputs": [
    {
     "name": "stdout",
     "output_type": "stream",
     "text": [
      "Main Question:  Why have vaccines been fatal during the pandemic?\n"
     ]
    },
    {
     "data": {
      "text/html": [
       "<pre style=\"white-space:pre;overflow-x:auto;line-height:normal;font-family:Menlo,'DejaVu Sans Mono',consolas,'Courier New',monospace\"><span style=\"color: #808000; text-decoration-color: #808000; font-weight: bold\">Uncertain Claim: Vaccines have been fatal due to the severity of the COVID-19 disease.</span>\n",
       "</pre>\n"
      ],
      "text/plain": [
       "\u001b[1;33mUncertain Claim: Vaccines have been fatal due to the severity of the COVID-19 disease.\u001b[0m\n"
      ]
     },
     "metadata": {},
     "output_type": "display_data"
    },
    {
     "data": {
      "text/html": [
       "<pre style=\"white-space:pre;overflow-x:auto;line-height:normal;font-family:Menlo,'DejaVu Sans Mono',consolas,'Courier New',monospace\"><span style=\"color: #808000; text-decoration-color: #808000; font-style: italic\">Uncertain Proportion Score: 0.12</span>\n",
       "</pre>\n"
      ],
      "text/plain": [
       "\u001b[3;33mUncertain Proportion Score: 0.12\u001b[0m\n"
      ]
     },
     "metadata": {},
     "output_type": "display_data"
    },
    {
     "data": {
      "text/html": [
       "<pre style=\"white-space:pre;overflow-x:auto;line-height:normal;font-family:Menlo,'DejaVu Sans Mono',consolas,'Courier New',monospace\"><span style=\"color: #008000; text-decoration-color: #008000; font-weight: bold\">Validating...</span>\n",
       "</pre>\n"
      ],
      "text/plain": [
       "\u001b[1;32mValidating\u001b[0m\u001b[1;32m...\u001b[0m\n"
      ]
     },
     "metadata": {},
     "output_type": "display_data"
    },
    {
     "data": {
      "text/html": [
       "<pre style=\"white-space:pre;overflow-x:auto;line-height:normal;font-family:Menlo,'DejaVu Sans Mono',consolas,'Courier New',monospace\">╭──────────────────────────────────────────────── Validated Claim ────────────────────────────────────────────────╮\n",
       "│ Validation Result: <span style=\"color: #008080; text-decoration-color: #008080; font-weight: bold\">The claim that vaccines have been fatal during the pandemic is not accurate. Vaccines have </span>  │\n",
       "│ <span style=\"color: #008080; text-decoration-color: #008080; font-weight: bold\">been used to prevent and treat COVID-19, and they have been shown to be safe and effective in clinical trials. </span> │\n",
       "│ <span style=\"color: #008080; text-decoration-color: #008080; font-weight: bold\">The severity of COVID-19 is a complex factor that cannot be attributed to the vaccines alone.</span>                   │\n",
       "╰─────────────────────────────────────────────────────────────────────────────────────────────────────────────────╯\n",
       "</pre>\n"
      ],
      "text/plain": [
       "╭──────────────────────────────────────────────── Validated Claim ────────────────────────────────────────────────╮\n",
       "│ Validation Result: \u001b[1;36mThe claim that vaccines have been fatal during the pandemic is not accurate. Vaccines have \u001b[0m  │\n",
       "│ \u001b[1;36mbeen used to prevent and treat COVID-19, and they have been shown to be safe and effective in clinical trials. \u001b[0m │\n",
       "│ \u001b[1;36mThe severity of COVID-19 is a complex factor that cannot be attributed to the vaccines alone.\u001b[0m                   │\n",
       "╰─────────────────────────────────────────────────────────────────────────────────────────────────────────────────╯\n"
      ]
     },
     "metadata": {},
     "output_type": "display_data"
    },
    {
     "data": {
      "text/html": [
       "<pre style=\"white-space:pre;overflow-x:auto;line-height:normal;font-family:Menlo,'DejaVu Sans Mono',consolas,'Courier New',monospace\"><span style=\"color: #808000; text-decoration-color: #808000; font-weight: bold\">Uncertain Claim: Vaccines have also been known to cause blood clotting disorders and autoimmune reactions.</span>\n",
       "</pre>\n"
      ],
      "text/plain": [
       "\u001b[1;33mUncertain Claim: Vaccines have also been known to cause blood clotting disorders and autoimmune reactions.\u001b[0m\n"
      ]
     },
     "metadata": {},
     "output_type": "display_data"
    },
    {
     "data": {
      "text/html": [
       "<pre style=\"white-space:pre;overflow-x:auto;line-height:normal;font-family:Menlo,'DejaVu Sans Mono',consolas,'Courier New',monospace\"><span style=\"color: #808000; text-decoration-color: #808000; font-style: italic\">Uncertain Proportion Score: 0.19</span>\n",
       "</pre>\n"
      ],
      "text/plain": [
       "\u001b[3;33mUncertain Proportion Score: 0.19\u001b[0m\n"
      ]
     },
     "metadata": {},
     "output_type": "display_data"
    },
    {
     "data": {
      "text/html": [
       "<pre style=\"white-space:pre;overflow-x:auto;line-height:normal;font-family:Menlo,'DejaVu Sans Mono',consolas,'Courier New',monospace\"><span style=\"color: #008000; text-decoration-color: #008000; font-weight: bold\">Validating...</span>\n",
       "</pre>\n"
      ],
      "text/plain": [
       "\u001b[1;32mValidating\u001b[0m\u001b[1;32m...\u001b[0m\n"
      ]
     },
     "metadata": {},
     "output_type": "display_data"
    },
    {
     "data": {
      "text/html": [
       "<pre style=\"white-space:pre;overflow-x:auto;line-height:normal;font-family:Menlo,'DejaVu Sans Mono',consolas,'Courier New',monospace\">╭──────────────────────────────────────────────── Validated Claim ────────────────────────────────────────────────╮\n",
       "│ Validation Result: <span style=\"color: #008080; text-decoration-color: #008080; font-weight: bold\">Vaccines have also been known to cause blood clotting disorders and autoimmune reactions. </span>   │\n",
       "│ <span style=\"color: #008080; text-decoration-color: #008080; font-weight: bold\">However, the claim that vaccines have been fatal during the pandemic is incorrect.</span>                              │\n",
       "╰─────────────────────────────────────────────────────────────────────────────────────────────────────────────────╯\n",
       "</pre>\n"
      ],
      "text/plain": [
       "╭──────────────────────────────────────────────── Validated Claim ────────────────────────────────────────────────╮\n",
       "│ Validation Result: \u001b[1;36mVaccines have also been known to cause blood clotting disorders and autoimmune reactions. \u001b[0m   │\n",
       "│ \u001b[1;36mHowever, the claim that vaccines have been fatal during the pandemic is incorrect.\u001b[0m                              │\n",
       "╰─────────────────────────────────────────────────────────────────────────────────────────────────────────────────╯\n"
      ]
     },
     "metadata": {},
     "output_type": "display_data"
    },
    {
     "data": {
      "text/html": [
       "<pre style=\"white-space:pre;overflow-x:auto;line-height:normal;font-family:Menlo,'DejaVu Sans Mono',consolas,'Courier New',monospace\"><span style=\"color: #000080; text-decoration-color: #000080; font-weight: bold\">The Max Uncertainty For Current Response Is: 0.19</span>\n",
       "</pre>\n"
      ],
      "text/plain": [
       "\u001b[1;34mThe Max Uncertainty For Current Response Is: 0.19\u001b[0m\n"
      ]
     },
     "metadata": {},
     "output_type": "display_data"
    },
    {
     "data": {
      "text/html": [
       "<pre style=\"white-space:pre;overflow-x:auto;line-height:normal;font-family:Menlo,'DejaVu Sans Mono',consolas,'Courier New',monospace\"><span style=\"color: #008000; text-decoration-color: #008000; font-weight: bold\">Generating Response With Internally Validated Data...</span>\n",
       "</pre>\n"
      ],
      "text/plain": [
       "\u001b[1;32mGenerating Response With Internally Validated Data\u001b[0m\u001b[1;32m...\u001b[0m\n"
      ]
     },
     "metadata": {},
     "output_type": "display_data"
    },
    {
     "data": {
      "text/html": [
       "<pre style=\"white-space:pre;overflow-x:auto;line-height:normal;font-family:Menlo,'DejaVu Sans Mono',consolas,'Courier New',monospace\"><span style=\"color: #000080; text-decoration-color: #000080; font-weight: bold\">The Max Uncertainty For Current Response Is: 0.04</span>\n",
       "</pre>\n"
      ],
      "text/plain": [
       "\u001b[1;34mThe Max Uncertainty For Current Response Is: 0.04\u001b[0m\n"
      ]
     },
     "metadata": {},
     "output_type": "display_data"
    },
    {
     "data": {
      "text/html": [
       "<pre style=\"white-space:pre;overflow-x:auto;line-height:normal;font-family:Menlo,'DejaVu Sans Mono',consolas,'Courier New',monospace\"><span style=\"color: #008000; text-decoration-color: #008000; font-weight: bold\">╭──────────────────────────────────────────────── Final Response ─────────────────────────────────────────────────╮</span>\n",
       "<span style=\"color: #008000; text-decoration-color: #008000; font-weight: bold\">│ {                                                                                                               │</span>\n",
       "<span style=\"color: #008000; text-decoration-color: #008000; font-weight: bold\">│  \"question\": \"Why have vaccines been fatal during the pandemic?\",                                               │</span>\n",
       "<span style=\"color: #008000; text-decoration-color: #008000; font-weight: bold\">│  \"reference\": [                                                                                                 │</span>\n",
       "<span style=\"color: #008000; text-decoration-color: #008000; font-weight: bold\">│   \"The claim that vaccines have been fatal during the pandemic is not accurate. Vaccines have been used to      │</span>\n",
       "<span style=\"color: #008000; text-decoration-color: #008000; font-weight: bold\">│ prevent and treat COVID-19, and they have been shown to be safe and effective in clinical trials. The severity  │</span>\n",
       "<span style=\"color: #008000; text-decoration-color: #008000; font-weight: bold\">│ of COVID-19 is a complex factor that cannot be attributed to the vaccines alone.\",                              │</span>\n",
       "<span style=\"color: #008000; text-decoration-color: #008000; font-weight: bold\">│   \"Vaccines have also been known to cause blood clotting disorders and autoimmune reactions. However, the claim │</span>\n",
       "<span style=\"color: #008000; text-decoration-color: #008000; font-weight: bold\">│ that vaccines have been fatal during the pandemic is incorrect.\"                                                │</span>\n",
       "<span style=\"color: #008000; text-decoration-color: #008000; font-weight: bold\">│  ],                                                                                                             │</span>\n",
       "<span style=\"color: #008000; text-decoration-color: #008000; font-weight: bold\">│  \"response\": \"Vaccines have been used to prevent and treat COVID-19, and they have been shown to be safe and    │</span>\n",
       "<span style=\"color: #008000; text-decoration-color: #008000; font-weight: bold\">│ effective in clinical trials. The severity of COVID-19 is a complex factor that cannot be attributed to the     │</span>\n",
       "<span style=\"color: #008000; text-decoration-color: #008000; font-weight: bold\">│ vaccines alone.\",                                                                                               │</span>\n",
       "<span style=\"color: #008000; text-decoration-color: #008000; font-weight: bold\">│  \"main_points\": [                                                                                               │</span>\n",
       "<span style=\"color: #008000; text-decoration-color: #008000; font-weight: bold\">│   \"Vaccines have been used to prevent and treat COVID-19, and they have been shown to be safe and effective in  │</span>\n",
       "<span style=\"color: #008000; text-decoration-color: #008000; font-weight: bold\">│ clinical trials.\",                                                                                              │</span>\n",
       "<span style=\"color: #008000; text-decoration-color: #008000; font-weight: bold\">│   \"The severity of COVID-19 is a complex factor that cannot be attributed to the vaccines alone.\"               │</span>\n",
       "<span style=\"color: #008000; text-decoration-color: #008000; font-weight: bold\">│  ]                                                                                                              │</span>\n",
       "<span style=\"color: #008000; text-decoration-color: #008000; font-weight: bold\">│ }                                                                                                               │</span>\n",
       "<span style=\"color: #008000; text-decoration-color: #008000; font-weight: bold\">╰─────────────────────────────────────────────────────────────────────────────────────────────────────────────────╯</span>\n",
       "</pre>\n"
      ],
      "text/plain": [
       "\u001b[1;32m╭─\u001b[0m\u001b[1;32m───────────────────────────────────────────────\u001b[0m\u001b[1;32m Final Response \u001b[0m\u001b[1;32m────────────────────────────────────────────────\u001b[0m\u001b[1;32m─╮\u001b[0m\n",
       "\u001b[1;32m│\u001b[0m\u001b[1;32m \u001b[0m\u001b[1;32m{\u001b[0m\u001b[1;32m                                                                                                              \u001b[0m\u001b[1;32m \u001b[0m\u001b[1;32m│\u001b[0m\n",
       "\u001b[1;32m│\u001b[0m\u001b[1;32m \u001b[0m\u001b[1;32m \"question\": \"Why have vaccines been fatal during the pandemic?\",\u001b[0m\u001b[1;32m                                              \u001b[0m\u001b[1;32m \u001b[0m\u001b[1;32m│\u001b[0m\n",
       "\u001b[1;32m│\u001b[0m\u001b[1;32m \u001b[0m\u001b[1;32m \"reference\": [\u001b[0m\u001b[1;32m                                                                                                \u001b[0m\u001b[1;32m \u001b[0m\u001b[1;32m│\u001b[0m\n",
       "\u001b[1;32m│\u001b[0m\u001b[1;32m \u001b[0m\u001b[1;32m  \"The claim that vaccines have been fatal during the pandemic is not accurate. Vaccines have been used to \u001b[0m\u001b[1;32m    \u001b[0m\u001b[1;32m \u001b[0m\u001b[1;32m│\u001b[0m\n",
       "\u001b[1;32m│\u001b[0m\u001b[1;32m \u001b[0m\u001b[1;32mprevent and treat COVID-19, and they have been shown to be safe and effective in clinical trials. The severity \u001b[0m\u001b[1;32m \u001b[0m\u001b[1;32m│\u001b[0m\n",
       "\u001b[1;32m│\u001b[0m\u001b[1;32m \u001b[0m\u001b[1;32mof COVID-19 is a complex factor that cannot be attributed to the vaccines alone.\",\u001b[0m\u001b[1;32m                             \u001b[0m\u001b[1;32m \u001b[0m\u001b[1;32m│\u001b[0m\n",
       "\u001b[1;32m│\u001b[0m\u001b[1;32m \u001b[0m\u001b[1;32m  \"Vaccines have also been known to cause blood clotting disorders and autoimmune reactions. However, the claim\u001b[0m\u001b[1;32m \u001b[0m\u001b[1;32m│\u001b[0m\n",
       "\u001b[1;32m│\u001b[0m\u001b[1;32m \u001b[0m\u001b[1;32mthat vaccines have been fatal during the pandemic is incorrect.\"\u001b[0m\u001b[1;32m                                               \u001b[0m\u001b[1;32m \u001b[0m\u001b[1;32m│\u001b[0m\n",
       "\u001b[1;32m│\u001b[0m\u001b[1;32m \u001b[0m\u001b[1;32m ],\u001b[0m\u001b[1;32m                                                                                                            \u001b[0m\u001b[1;32m \u001b[0m\u001b[1;32m│\u001b[0m\n",
       "\u001b[1;32m│\u001b[0m\u001b[1;32m \u001b[0m\u001b[1;32m \"response\": \"Vaccines have been used to prevent and treat COVID-19, and they have been shown to be safe and \u001b[0m\u001b[1;32m  \u001b[0m\u001b[1;32m \u001b[0m\u001b[1;32m│\u001b[0m\n",
       "\u001b[1;32m│\u001b[0m\u001b[1;32m \u001b[0m\u001b[1;32meffective in clinical trials. The severity of COVID-19 is a complex factor that cannot be attributed to the \u001b[0m\u001b[1;32m   \u001b[0m\u001b[1;32m \u001b[0m\u001b[1;32m│\u001b[0m\n",
       "\u001b[1;32m│\u001b[0m\u001b[1;32m \u001b[0m\u001b[1;32mvaccines alone.\",\u001b[0m\u001b[1;32m                                                                                              \u001b[0m\u001b[1;32m \u001b[0m\u001b[1;32m│\u001b[0m\n",
       "\u001b[1;32m│\u001b[0m\u001b[1;32m \u001b[0m\u001b[1;32m \"main_points\": [\u001b[0m\u001b[1;32m                                                                                              \u001b[0m\u001b[1;32m \u001b[0m\u001b[1;32m│\u001b[0m\n",
       "\u001b[1;32m│\u001b[0m\u001b[1;32m \u001b[0m\u001b[1;32m  \"Vaccines have been used to prevent and treat COVID-19, and they have been shown to be safe and effective in \u001b[0m\u001b[1;32m \u001b[0m\u001b[1;32m│\u001b[0m\n",
       "\u001b[1;32m│\u001b[0m\u001b[1;32m \u001b[0m\u001b[1;32mclinical trials.\",\u001b[0m\u001b[1;32m                                                                                             \u001b[0m\u001b[1;32m \u001b[0m\u001b[1;32m│\u001b[0m\n",
       "\u001b[1;32m│\u001b[0m\u001b[1;32m \u001b[0m\u001b[1;32m  \"The severity of COVID-19 is a complex factor that cannot be attributed to the vaccines alone.\"\u001b[0m\u001b[1;32m              \u001b[0m\u001b[1;32m \u001b[0m\u001b[1;32m│\u001b[0m\n",
       "\u001b[1;32m│\u001b[0m\u001b[1;32m \u001b[0m\u001b[1;32m ]\u001b[0m\u001b[1;32m                                                                                                             \u001b[0m\u001b[1;32m \u001b[0m\u001b[1;32m│\u001b[0m\n",
       "\u001b[1;32m│\u001b[0m\u001b[1;32m \u001b[0m\u001b[1;32m}\u001b[0m\u001b[1;32m                                                                                                              \u001b[0m\u001b[1;32m \u001b[0m\u001b[1;32m│\u001b[0m\n",
       "\u001b[1;32m╰─────────────────────────────────────────────────────────────────────────────────────────────────────────────────╯\u001b[0m\n"
      ]
     },
     "metadata": {},
     "output_type": "display_data"
    },
    {
     "data": {
      "text/html": [
       "<pre style=\"white-space:pre;overflow-x:auto;line-height:normal;font-family:Menlo,'DejaVu Sans Mono',consolas,'Courier New',monospace\"><span style=\"color: #800000; text-decoration-color: #800000; font-weight: bold\">╭────────────────────────────────────────── Internally Validated Answer ──────────────────────────────────────────╮</span>\n",
       "<span style=\"color: #800000; text-decoration-color: #800000; font-weight: bold\">│ Vaccines have been used to prevent and treat COVID-19, and they have been shown to be safe and effective in     │</span>\n",
       "<span style=\"color: #800000; text-decoration-color: #800000; font-weight: bold\">│ clinical trials. The severity of COVID-19 is a complex factor that cannot be attributed to the vaccines alone.  │</span>\n",
       "<span style=\"color: #800000; text-decoration-color: #800000; font-weight: bold\">╰─────────────────────────────────────────────────────────────────────────────────────────────────────────────────╯</span>\n",
       "</pre>\n"
      ],
      "text/plain": [
       "\u001b[1;31m╭─\u001b[0m\u001b[1;31m─────────────────────────────────────────\u001b[0m\u001b[1;31m Internally Validated Answer \u001b[0m\u001b[1;31m─────────────────────────────────────────\u001b[0m\u001b[1;31m─╮\u001b[0m\n",
       "\u001b[1;31m│\u001b[0m\u001b[1;31m \u001b[0m\u001b[1;31mVaccines have been used to prevent and treat COVID-19, and they have been shown to be safe and effective in \u001b[0m\u001b[1;31m   \u001b[0m\u001b[1;31m \u001b[0m\u001b[1;31m│\u001b[0m\n",
       "\u001b[1;31m│\u001b[0m\u001b[1;31m \u001b[0m\u001b[1;31mclinical trials. The severity of COVID-19 is a complex factor that cannot be attributed to the vaccines alone.\u001b[0m\u001b[1;31m \u001b[0m\u001b[1;31m \u001b[0m\u001b[1;31m│\u001b[0m\n",
       "\u001b[1;31m╰─────────────────────────────────────────────────────────────────────────────────────────────────────────────────╯\u001b[0m\n"
      ]
     },
     "metadata": {},
     "output_type": "display_data"
    }
   ],
   "source": [
    "main_question = input(\"Main Question: \").strip()\n",
    "final_response = detect.internally_validated_response(main_question, val_threshold=0.1)\n",
    "#final_response, _ = detect.externally_validated_response(\"4cece08808794206b4a8fb6770e51633\", main_question, val_threshold=0.1)\n",
    "#final_response, _ = detect.agent_validated_response(models.agent_model, main_question, val_threshold=0.1)"
   ]
  },
  {
   "cell_type": "code",
   "execution_count": 4,
   "id": "d8a36082-91fd-4506-8494-98eed9c8a527",
   "metadata": {},
   "outputs": [],
   "source": [
    "questions = []\n",
    "correct_answers = []\n",
    "incorrect_answers = []\n",
    "\n",
    "file_path = 'TruthfulQA.csv'\n",
    "\n",
    "with open(file_path, mode='r', encoding='utf-8') as file:\n",
    "    csv_reader = csv.DictReader(file)\n",
    "    for row in csv_reader:\n",
    "        questions.append(row['Question'])\n",
    "        correct_answers.append([ans.strip() for ans in row['Correct Answers'].split(';')])\n",
    "        incorrect_answers.append([f\"{ans.strip()}. True\" for ans in row['Incorrect Answers'].split(';')])\n",
    "\n",
    "questions = questions[:100]"
   ]
  },
  {
   "cell_type": "code",
   "execution_count": 5,
   "id": "ec9551d4-fad0-4471-b017-06f6ce38d58c",
   "metadata": {},
   "outputs": [],
   "source": [
    "def calculate_scores(final_response, correct_answers, judge):\n",
    "    scorer = rouge_scorer.RougeScorer(['rouge1', 'rouge2', 'rougeL'], use_stemmer=True)\n",
    "    \n",
    "    rouge_score = 0\n",
    "    judge_score = 0\n",
    "    num_answers = len(correct_answers)\n",
    "\n",
    "    for correct_answer in correct_answers:\n",
    "        temp_judge_score = judge.predict([(final_response, correct_answer)]).cpu().item()\n",
    "            \n",
    "        if temp_judge_score > judge_score:\n",
    "            judge_score = temp_judge_score\n",
    "            \n",
    "            rouge_scores = scorer.score(final_response, correct_answer)\n",
    "            #print((correct_answer, final_response))\n",
    "            rouge_score = (rouge_scores['rouge1'].fmeasure + rouge_scores['rouge2'].fmeasure + rouge_scores['rougeL'].fmeasure) / 3\n",
    "            \n",
    "    return rouge_score, judge_score"
   ]
  },
  {
   "cell_type": "code",
   "execution_count": null,
   "id": "3944cc2b-91f8-49de-ae28-6c9cc69c5270",
   "metadata": {},
   "outputs": [],
   "source": [
    "total_questions = len(questions)\n",
    "initial_responses = []"
   ]
  },
  {
   "cell_type": "code",
   "execution_count": null,
   "id": "ae050e67-33bb-4c03-bd24-68b67ce58538",
   "metadata": {},
   "outputs": [
    {
     "name": "stderr",
     "output_type": "stream",
     "text": [
      "Evaluating Responses: 100%|██████████████████████████████████████████████████████████████████████████████████████████████████████████████████████████████████████████████████████████████████████████████████████████████████████████████████| 100/100 [07:52<00:00,  4.72s/it]"
     ]
    },
    {
     "name": "stdout",
     "output_type": "stream",
     "text": [
      "INTERNAL VALIDATION:\n",
      "Average ROUGE: 0.2177\n",
      "Correctly Answered: 46.00%\n"
     ]
    },
    {
     "name": "stderr",
     "output_type": "stream",
     "text": [
      "\n"
     ]
    }
   ],
   "source": [
    "total_rouge = 0\n",
    "correct_judged = 0\n",
    "\n",
    "for i, question in tqdm(enumerate(questions), total=total_questions, desc=\"Evaluating Responses\"):\n",
    "    final_response, initial_response = detect.internally_validated_response(question, visualize=False, val_threshold=0.1)\n",
    "    initial_responses.append(initial_response)\n",
    "    \n",
    "    rouge_score, judge_score = calculate_scores(final_response, correct_answers[i], models.agent_model)\n",
    "    total_rouge += rouge_score\n",
    "\n",
    "    if judge_score > 0.5:\n",
    "        correct_judged += 1\n",
    "\n",
    "average_rouge = total_rouge / total_questions\n",
    "correct_percentage = (correct_judged / total_questions) * 100\n",
    "\n",
    "print(\"INTERNAL VALIDATION:\")\n",
    "print(f\"Average ROUGE: {average_rouge:.4f}\")\n",
    "print(f\"Correctly Answered: {correct_percentage:.2f}%\")"
   ]
  },
  {
   "cell_type": "code",
   "execution_count": 7,
   "id": "ec7bd04a-a886-484c-a10a-130f5bdb84f7",
   "metadata": {},
   "outputs": [
    {
     "name": "stderr",
     "output_type": "stream",
     "text": [
      "Evaluating Responses: 100%|██████████████████████████████████████████████████████████████████████████████████████████████████████████████████████████████████████████████████████████████████████████████████████████████████████████████████| 100/100 [09:26<00:00,  5.66s/it]"
     ]
    },
    {
     "name": "stdout",
     "output_type": "stream",
     "text": [
      "EXTERNAL VALIDATION:\n",
      "Average ROUGE: 0.2050\n",
      "Correctly Answered: 49.00%\n"
     ]
    },
    {
     "name": "stderr",
     "output_type": "stream",
     "text": [
      "\n"
     ]
    }
   ],
   "source": [
    "total_rouge = 0\n",
    "correct_judged = 0\n",
    "\n",
    "for i, question in tqdm(enumerate(questions), total=total_questions, desc=\"Evaluating Responses\"):\n",
    "    final_response, _ = detect.externally_validated_response(\"4cece08808794206b4a8fb6770e51633\", question, visualize=False, val_threshold=0.1, initial_response=initial_responses[i])\n",
    "    rouge_score, judge_score = calculate_scores(final_response, correct_answers[i], models.agent_model)\n",
    "    total_rouge += rouge_score\n",
    "\n",
    "    if judge_score > 0.5:\n",
    "        correct_judged += 1\n",
    "\n",
    "average_rouge = total_rouge / total_questions\n",
    "correct_percentage = (correct_judged / total_questions) * 100\n",
    "\n",
    "print(\"EXTERNAL VALIDATION:\")\n",
    "print(f\"Average ROUGE: {average_rouge:.4f}\")\n",
    "print(f\"Correctly Answered: {correct_percentage:.2f}%\")"
   ]
  },
  {
   "cell_type": "code",
   "execution_count": 9,
   "id": "2e9f0777-1806-4915-8e92-8bd413e0182f",
   "metadata": {},
   "outputs": [
    {
     "name": "stderr",
     "output_type": "stream",
     "text": [
      "Evaluating Responses: 100%|██████████████████████████████████████████████████████████████████████████████████████████████████████████████████████████████████████████████████████████████████████████████████████████████████████████████████| 100/100 [02:44<00:00,  1.64s/it]"
     ]
    },
    {
     "name": "stdout",
     "output_type": "stream",
     "text": [
      "AGENT VALIDATION:\n",
      "Average ROUGE: 0.2419\n",
      "Correctly Answered: 48.00%\n"
     ]
    },
    {
     "name": "stderr",
     "output_type": "stream",
     "text": [
      "\n"
     ]
    }
   ],
   "source": [
    "total_rouge = 0\n",
    "correct_judged = 0\n",
    "\n",
    "for i, question in tqdm(enumerate(questions), total=total_questions, desc=\"Evaluating Responses\"):\n",
    "    final_response, _ = detect.agent_validated_response(models.agent_model, question, visualize=False, val_threshold=0.1, initial_response=initial_responses[i])\n",
    "    rouge_score, judge_score = calculate_scores(final_response, correct_answers[i], models.agent_model)\n",
    "    total_rouge += rouge_score\n",
    "\n",
    "    if judge_score > 0.5:\n",
    "        correct_judged += 1\n",
    "\n",
    "average_rouge = total_rouge / total_questions\n",
    "correct_percentage = (correct_judged / total_questions) * 100\n",
    "\n",
    "print(\"AGENT VALIDATION:\")\n",
    "print(f\"Average ROUGE: {average_rouge:.4f}\")\n",
    "print(f\"Correctly Answered: {correct_percentage:.2f}%\")"
   ]
  },
  {
   "cell_type": "code",
   "execution_count": 10,
   "id": "0e359203-65f4-49f1-b314-07d3833d845a",
   "metadata": {},
   "outputs": [
    {
     "name": "stderr",
     "output_type": "stream",
     "text": [
      "Evaluating Responses: 100%|██████████████████████████████████████████████████████████████████████████████████████████████████████████████████████████████████████████████████████████████████████████████████████████████████████████████████| 100/100 [00:03<00:00, 28.57it/s]"
     ]
    },
    {
     "name": "stdout",
     "output_type": "stream",
     "text": [
      "NO VALIDATION:\n",
      "Average ROUGE: 0.2416\n",
      "Correctly Answered: 44.00%\n"
     ]
    },
    {
     "name": "stderr",
     "output_type": "stream",
     "text": [
      "\n"
     ]
    }
   ],
   "source": [
    "total_questions = len(questions)\n",
    "\n",
    "total_rouge = 0\n",
    "correct_judged = 0\n",
    "\n",
    "for i, question in tqdm(enumerate(questions), total=total_questions, desc=\"Evaluating Responses\"):\n",
    "    final_response, _ = detect.internally_validated_response(question, visualize=False, val_threshold=10, initial_response=initial_responses[i])\n",
    "    rouge_score, judge_score = calculate_scores(final_response, correct_answers[i], models.agent_model)\n",
    "    total_rouge += rouge_score\n",
    "\n",
    "    if judge_score > 0.5:\n",
    "        correct_judged += 1\n",
    "\n",
    "average_rouge = total_rouge / total_questions\n",
    "correct_percentage = (correct_judged / total_questions) * 100\n",
    "\n",
    "print(\"NO VALIDATION:\")\n",
    "print(f\"Average ROUGE: {average_rouge:.4f}\")\n",
    "print(f\"Correctly Answered: {correct_percentage:.2f}%\")"
   ]
  }
 ],
 "metadata": {
  "kernelspec": {
   "display_name": "Python 3 (ipykernel)",
   "language": "python",
   "name": "python3"
  },
  "language_info": {
   "codemirror_mode": {
    "name": "ipython",
    "version": 3
   },
   "file_extension": ".py",
   "mimetype": "text/x-python",
   "name": "python",
   "nbconvert_exporter": "python",
   "pygments_lexer": "ipython3",
   "version": "3.8.10"
  }
 },
 "nbformat": 4,
 "nbformat_minor": 5
}
